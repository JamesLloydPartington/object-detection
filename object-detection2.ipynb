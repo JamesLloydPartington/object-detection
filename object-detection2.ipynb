{
 "cells": [
  {
   "cell_type": "code",
   "execution_count": 1,
   "id": "bd4c0d56",
   "metadata": {},
   "outputs": [
    {
     "name": "stderr",
     "output_type": "stream",
     "text": [
      "/home/jallpa/GitHub/object-detection/env/lib/python3.8/site-packages/tqdm/auto.py:22: TqdmWarning: IProgress not found. Please update jupyter and ipywidgets. See https://ipywidgets.readthedocs.io/en/stable/user_install.html\n",
      "  from .autonotebook import tqdm as notebook_tqdm\n"
     ]
    }
   ],
   "source": [
    "import numpy as np\n",
    "import os\n",
    "\n",
    "from tflite_model_maker.config import QuantizationConfig\n",
    "from tflite_model_maker.config import ExportFormat\n",
    "from tflite_model_maker import model_spec\n",
    "from tflite_model_maker import object_detector\n",
    "\n",
    "import tensorflow as tf\n",
    "assert tf.__version__.startswith('2')\n",
    "\n",
    "tf.get_logger().setLevel('ERROR')\n",
    "from absl import logging\n",
    "logging.set_verbosity(logging.ERROR)"
   ]
  },
  {
   "cell_type": "code",
   "execution_count": 4,
   "id": "00abcac5",
   "metadata": {},
   "outputs": [
    {
     "name": "stderr",
     "output_type": "stream",
     "text": [
      "2022-06-08 09:11:20.402931: W tensorflow/core/platform/cloud/google_auth_provider.cc:184] All attempts to get a Google authentication bearer token failed, returning an empty token. Retrieving token from files failed with \"NOT_FOUND: Could not locate the credentials file.\". Retrieving token from GCE failed with \"FAILED_PRECONDITION: Error executing an HTTP request: libcurl code 6 meaning 'Couldn't resolve host name', error details: Could not resolve host: metadata\".\n"
     ]
    }
   ],
   "source": [
    "train_data, validation_data, test_data = object_detector.DataLoader.from_csv('gs://cloud-ml-data/img/openimage/csv/salads_ml_use.csv')\n"
   ]
  },
  {
   "cell_type": "code",
   "execution_count": 5,
   "id": "b2a8862a",
   "metadata": {},
   "outputs": [
    {
     "name": "stderr",
     "output_type": "stream",
     "text": [
      "2022-06-08 09:15:18.372422: I tensorflow/stream_executor/cuda/cuda_gpu_executor.cc:936] successful NUMA node read from SysFS had negative value (-1), but there must be at least one NUMA node, so returning NUMA node zero\n",
      "2022-06-08 09:15:18.373112: I tensorflow/stream_executor/cuda/cuda_gpu_executor.cc:936] successful NUMA node read from SysFS had negative value (-1), but there must be at least one NUMA node, so returning NUMA node zero\n",
      "2022-06-08 09:15:18.377509: I tensorflow/stream_executor/cuda/cuda_gpu_executor.cc:936] successful NUMA node read from SysFS had negative value (-1), but there must be at least one NUMA node, so returning NUMA node zero\n",
      "2022-06-08 09:15:18.377970: I tensorflow/stream_executor/cuda/cuda_gpu_executor.cc:936] successful NUMA node read from SysFS had negative value (-1), but there must be at least one NUMA node, so returning NUMA node zero\n",
      "2022-06-08 09:15:18.378607: I tensorflow/stream_executor/cuda/cuda_gpu_executor.cc:936] successful NUMA node read from SysFS had negative value (-1), but there must be at least one NUMA node, so returning NUMA node zero\n",
      "2022-06-08 09:15:18.379067: I tensorflow/stream_executor/cuda/cuda_gpu_executor.cc:936] successful NUMA node read from SysFS had negative value (-1), but there must be at least one NUMA node, so returning NUMA node zero\n",
      "2022-06-08 09:15:18.380299: I tensorflow/core/platform/cpu_feature_guard.cc:151] This TensorFlow binary is optimized with oneAPI Deep Neural Network Library (oneDNN) to use the following CPU instructions in performance-critical operations:  AVX2 FMA\n",
      "To enable them in other operations, rebuild TensorFlow with the appropriate compiler flags.\n",
      "2022-06-08 09:15:18.536760: I tensorflow/stream_executor/cuda/cuda_gpu_executor.cc:936] successful NUMA node read from SysFS had negative value (-1), but there must be at least one NUMA node, so returning NUMA node zero\n",
      "2022-06-08 09:15:18.537258: I tensorflow/stream_executor/cuda/cuda_gpu_executor.cc:936] successful NUMA node read from SysFS had negative value (-1), but there must be at least one NUMA node, so returning NUMA node zero\n",
      "2022-06-08 09:15:18.537646: I tensorflow/stream_executor/cuda/cuda_gpu_executor.cc:936] successful NUMA node read from SysFS had negative value (-1), but there must be at least one NUMA node, so returning NUMA node zero\n",
      "2022-06-08 09:15:18.538028: I tensorflow/stream_executor/cuda/cuda_gpu_executor.cc:936] successful NUMA node read from SysFS had negative value (-1), but there must be at least one NUMA node, so returning NUMA node zero\n",
      "2022-06-08 09:15:18.538543: I tensorflow/stream_executor/cuda/cuda_gpu_executor.cc:936] successful NUMA node read from SysFS had negative value (-1), but there must be at least one NUMA node, so returning NUMA node zero\n",
      "2022-06-08 09:15:18.538920: I tensorflow/stream_executor/cuda/cuda_gpu_executor.cc:936] successful NUMA node read from SysFS had negative value (-1), but there must be at least one NUMA node, so returning NUMA node zero\n",
      "2022-06-08 09:15:19.283669: I tensorflow/stream_executor/cuda/cuda_gpu_executor.cc:936] successful NUMA node read from SysFS had negative value (-1), but there must be at least one NUMA node, so returning NUMA node zero\n",
      "2022-06-08 09:15:19.284344: I tensorflow/stream_executor/cuda/cuda_gpu_executor.cc:936] successful NUMA node read from SysFS had negative value (-1), but there must be at least one NUMA node, so returning NUMA node zero\n",
      "2022-06-08 09:15:19.284726: I tensorflow/stream_executor/cuda/cuda_gpu_executor.cc:936] successful NUMA node read from SysFS had negative value (-1), but there must be at least one NUMA node, so returning NUMA node zero\n",
      "2022-06-08 09:15:19.285110: I tensorflow/stream_executor/cuda/cuda_gpu_executor.cc:936] successful NUMA node read from SysFS had negative value (-1), but there must be at least one NUMA node, so returning NUMA node zero\n",
      "2022-06-08 09:15:19.285474: I tensorflow/stream_executor/cuda/cuda_gpu_executor.cc:936] successful NUMA node read from SysFS had negative value (-1), but there must be at least one NUMA node, so returning NUMA node zero\n",
      "2022-06-08 09:15:19.285844: I tensorflow/core/common_runtime/gpu/gpu_device.cc:1525] Created device /job:localhost/replica:0/task:0/device:GPU:0 with 6655 MB memory:  -> device: 0, name: NVIDIA GeForce RTX 2070 SUPER, pci bus id: 0000:04:00.0, compute capability: 7.5\n",
      "2022-06-08 09:15:19.286090: I tensorflow/stream_executor/cuda/cuda_gpu_executor.cc:936] successful NUMA node read from SysFS had negative value (-1), but there must be at least one NUMA node, so returning NUMA node zero\n",
      "2022-06-08 09:15:19.286422: I tensorflow/core/common_runtime/gpu/gpu_device.cc:1525] Created device /job:localhost/replica:0/task:0/device:GPU:1 with 6970 MB memory:  -> device: 1, name: NVIDIA GeForce GTX 1080, pci bus id: 0000:01:00.0, compute capability: 6.1\n"
     ]
    }
   ],
   "source": [
    "spec = model_spec.get('efficientdet_lite0')"
   ]
  },
  {
   "cell_type": "code",
   "execution_count": 8,
   "id": "bfa7be50",
   "metadata": {},
   "outputs": [
    {
     "name": "stdout",
     "output_type": "stream",
     "text": [
      "Epoch 1/10\n",
      "21/21 [==============================] - 34s 627ms/step - det_loss: 1.7497 - cls_loss: 1.1283 - box_loss: 0.0124 - reg_l2_loss: 0.0635 - loss: 1.8132 - learning_rate: 0.0090 - gradient_norm: 0.7807 - val_det_loss: 1.6277 - val_cls_loss: 1.0807 - val_box_loss: 0.0109 - val_reg_l2_loss: 0.0635 - val_loss: 1.6912\n",
      "Epoch 2/10\n",
      "21/21 [==============================] - 6s 272ms/step - det_loss: 1.5750 - cls_loss: 1.0535 - box_loss: 0.0104 - reg_l2_loss: 0.0635 - loss: 1.6385 - learning_rate: 0.0093 - gradient_norm: 1.0722 - val_det_loss: 1.3913 - val_cls_loss: 0.8912 - val_box_loss: 0.0100 - val_reg_l2_loss: 0.0635 - val_loss: 1.4547\n",
      "Epoch 3/10\n",
      "21/21 [==============================] - 8s 383ms/step - det_loss: 1.3906 - cls_loss: 0.9112 - box_loss: 0.0096 - reg_l2_loss: 0.0635 - loss: 1.4541 - learning_rate: 0.0082 - gradient_norm: 1.7547 - val_det_loss: 3.1117 - val_cls_loss: 2.6433 - val_box_loss: 0.0094 - val_reg_l2_loss: 0.0635 - val_loss: 3.1752\n",
      "Epoch 4/10\n",
      "21/21 [==============================] - 8s 389ms/step - det_loss: 1.2532 - cls_loss: 0.8019 - box_loss: 0.0090 - reg_l2_loss: 0.0635 - loss: 1.3167 - learning_rate: 0.0067 - gradient_norm: 1.6541 - val_det_loss: 2.6333 - val_cls_loss: 2.1827 - val_box_loss: 0.0090 - val_reg_l2_loss: 0.0635 - val_loss: 2.6968\n",
      "Epoch 5/10\n",
      "21/21 [==============================] - 13s 658ms/step - det_loss: 1.1766 - cls_loss: 0.7391 - box_loss: 0.0088 - reg_l2_loss: 0.0635 - loss: 1.2401 - learning_rate: 0.0050 - gradient_norm: 1.6528 - val_det_loss: 1.8950 - val_cls_loss: 1.4662 - val_box_loss: 0.0086 - val_reg_l2_loss: 0.0635 - val_loss: 1.9586\n",
      "Epoch 6/10\n",
      "21/21 [==============================] - 6s 291ms/step - det_loss: 1.1286 - cls_loss: 0.7108 - box_loss: 0.0084 - reg_l2_loss: 0.0635 - loss: 1.1921 - learning_rate: 0.0033 - gradient_norm: 1.6787 - val_det_loss: 1.3348 - val_cls_loss: 0.9201 - val_box_loss: 0.0083 - val_reg_l2_loss: 0.0635 - val_loss: 1.3983\n",
      "Epoch 7/10\n",
      "21/21 [==============================] - 8s 370ms/step - det_loss: 1.1049 - cls_loss: 0.6891 - box_loss: 0.0083 - reg_l2_loss: 0.0635 - loss: 1.1684 - learning_rate: 0.0018 - gradient_norm: 1.6158 - val_det_loss: 1.2856 - val_cls_loss: 0.8826 - val_box_loss: 0.0081 - val_reg_l2_loss: 0.0635 - val_loss: 1.3492\n",
      "Epoch 8/10\n",
      "21/21 [==============================] - 7s 353ms/step - det_loss: 1.0780 - cls_loss: 0.6750 - box_loss: 0.0081 - reg_l2_loss: 0.0635 - loss: 1.1415 - learning_rate: 6.9523e-04 - gradient_norm: 1.6201 - val_det_loss: 1.1599 - val_cls_loss: 0.7595 - val_box_loss: 0.0080 - val_reg_l2_loss: 0.0635 - val_loss: 1.2234\n",
      "Epoch 9/10\n",
      "21/21 [==============================] - 8s 382ms/step - det_loss: 1.0907 - cls_loss: 0.6829 - box_loss: 0.0082 - reg_l2_loss: 0.0635 - loss: 1.1542 - learning_rate: 1.0333e-04 - gradient_norm: 1.7176 - val_det_loss: 1.1173 - val_cls_loss: 0.7166 - val_box_loss: 0.0080 - val_reg_l2_loss: 0.0635 - val_loss: 1.1808\n",
      "Epoch 10/10\n",
      "21/21 [==============================] - 11s 548ms/step - det_loss: 1.0768 - cls_loss: 0.6788 - box_loss: 0.0080 - reg_l2_loss: 0.0635 - loss: 1.1403 - learning_rate: 1.0203e-04 - gradient_norm: 1.5455 - val_det_loss: 1.0984 - val_cls_loss: 0.6963 - val_box_loss: 0.0080 - val_reg_l2_loss: 0.0635 - val_loss: 1.1620\n"
     ]
    }
   ],
   "source": [
    "model = object_detector.create(train_data,\n",
    "                               model_spec=spec,\n",
    "                               batch_size=8,\n",
    "                               train_whole_model=True,\n",
    "                               validation_data=validation_data,\n",
    "                               epochs = 10\n",
    ")"
   ]
  },
  {
   "cell_type": "code",
   "execution_count": 9,
   "id": "e8e59604",
   "metadata": {},
   "outputs": [
    {
     "name": "stdout",
     "output_type": "stream",
     "text": [
      "1/1 [==============================] - 6s 6s/step\n",
      "\n"
     ]
    },
    {
     "data": {
      "text/plain": [
       "{'AP': 0.1183255,\n",
       " 'AP50': 0.22658026,\n",
       " 'AP75': 0.11546995,\n",
       " 'APs': -1.0,\n",
       " 'APm': 0.21176508,\n",
       " 'APl': 0.118041255,\n",
       " 'ARmax1': 0.08518382,\n",
       " 'ARmax10': 0.1950312,\n",
       " 'ARmax100': 0.24193293,\n",
       " 'ARs': -1.0,\n",
       " 'ARm': 0.5833333,\n",
       " 'ARl': 0.23950303,\n",
       " 'AP_/Baked Goods': 0.0,\n",
       " 'AP_/Salad': 0.38840255,\n",
       " 'AP_/Cheese': 0.011169391,\n",
       " 'AP_/Seafood': 0.0,\n",
       " 'AP_/Tomato': 0.19205555}"
      ]
     },
     "execution_count": 9,
     "metadata": {},
     "output_type": "execute_result"
    }
   ],
   "source": [
    "model.evaluate(test_data)"
   ]
  },
  {
   "cell_type": "code",
   "execution_count": 21,
   "id": "f3340595",
   "metadata": {},
   "outputs": [
    {
     "name": "stderr",
     "output_type": "stream",
     "text": [
      "2022-06-08 10:55:57.255721: W tensorflow/python/util/util.cc:368] Sets are not currently considered sequences, but this may change in the future, so consider avoiding using them.\n",
      "2022-06-08 10:56:15.516387: W tensorflow/core/common_runtime/graph_constructor.cc:803] Node 'resample_p7/PartitionedCall' has 1 outputs but the _output_shapes attribute specifies shapes for 3 outputs. Output shapes may be inaccurate.\n",
      "2022-06-08 10:56:25.706437: W tensorflow/compiler/mlir/lite/python/tf_tfl_flatbuffer_helpers.cc:357] Ignored output_format.\n",
      "2022-06-08 10:56:25.706461: W tensorflow/compiler/mlir/lite/python/tf_tfl_flatbuffer_helpers.cc:360] Ignored drop_control_dependency.\n",
      "2022-06-08 10:56:25.707335: I tensorflow/cc/saved_model/reader.cc:43] Reading SavedModel from: /tmp/tmpvgacxjbx\n",
      "2022-06-08 10:56:25.784601: I tensorflow/cc/saved_model/reader.cc:78] Reading meta graph with tags { serve }\n",
      "2022-06-08 10:56:25.784629: I tensorflow/cc/saved_model/reader.cc:119] Reading SavedModel debug info (if present) from: /tmp/tmpvgacxjbx\n",
      "2022-06-08 10:56:26.070495: I tensorflow/cc/saved_model/loader.cc:228] Restoring SavedModel bundle.\n",
      "2022-06-08 10:56:27.901916: I tensorflow/cc/saved_model/loader.cc:212] Running initialization op on SavedModel bundle at path: /tmp/tmpvgacxjbx\n",
      "2022-06-08 10:56:28.656730: I tensorflow/cc/saved_model/loader.cc:301] SavedModel load for tags { serve }; Status: success: OK. Took 2949397 microseconds.\n",
      "2022-06-08 10:56:29.924866: I tensorflow/compiler/mlir/tensorflow/utils/dump_mlir_util.cc:237] disabling MLIR crash reproducer, set env var `MLIR_CRASH_REPRODUCER_DIRECTORY` to enable.\n",
      "2022-06-08 10:56:31.322368: I tensorflow/compiler/mlir/lite/flatbuffer_export.cc:1963] Estimated count of arithmetic ops: 1.763 G  ops, equivalently 0.882 G  MACs\n",
      "\n",
      "fully_quantize: 0, inference_type: 6, input_inference_type: 3, output_inference_type: 0\n",
      "2022-06-08 10:57:04.945347: I tensorflow/compiler/mlir/lite/flatbuffer_export.cc:1963] Estimated count of arithmetic ops: 1.763 G  ops, equivalently 0.882 G  MACs\n",
      "\n"
     ]
    }
   ],
   "source": [
    "model.export(export_dir='.')"
   ]
  },
  {
   "cell_type": "code",
   "execution_count": null,
   "id": "9ac9af15",
   "metadata": {},
   "outputs": [],
   "source": []
  }
 ],
 "metadata": {
  "kernelspec": {
   "display_name": "Python 3 (ipykernel)",
   "language": "python",
   "name": "python3"
  },
  "language_info": {
   "codemirror_mode": {
    "name": "ipython",
    "version": 3
   },
   "file_extension": ".py",
   "mimetype": "text/x-python",
   "name": "python",
   "nbconvert_exporter": "python",
   "pygments_lexer": "ipython3",
   "version": "3.8.10"
  }
 },
 "nbformat": 4,
 "nbformat_minor": 5
}
